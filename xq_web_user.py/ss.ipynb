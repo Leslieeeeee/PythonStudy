{
 "cells": [
  {
   "cell_type": "code",
   "execution_count": null,
   "metadata": {
    "collapsed": true
   },
   "outputs": [],
   "source": [
    "import requests\n",
    "import re\n",
    "import bs4\n",
    "import json\n",
    "import os\n",
    "import Jupyter\n",
    "\n",
    "\n",
    "headers = {\n",
    "    'Host': \"xueqiu.com\",\n",
    "    'Accept-Language': \"en,zh-CN;q=0.8,zh;q=0.6\",\n",
    "    'Accept-Encoding': \"gzip\",\n",
    "    'Content-Type': \"application/json;charset=UTF-8\",\n",
    "    'Connection': \"keep-alive\",\n",
    "    'Cookie': \"s=ff11jjcikk; webp=1; remember=1; remember.sig=K4F3faYzmVuqC0iXIERCQf55g2Y; xq_is_login.sig=J3LxgPVPUzbBg3Kee_PquUfih7Q; u.sig=0PtlEgOiOEI4j8B9JhoFXLVCZn8; bid=e9a323e481ca9d25fbb151d80071ff7d_j3b6luq5; aliyungf_tc=AQAAACqJ6EQ1yAEAX4Fyyj0HVh2ahOMp; snbim_minify=true; xq_a_token=876f2519b10cea9dc131b87db2e5318e5d4ea64f; xq_a_token.sig=dfyKV8R29cG1dbHpcWXqSX6_5BE; xq_r_token=709abdc1ccb40ac956166989385ffd603ad6ab6f; xq_r_token.sig=dBkYRMW0CNWbgJ3X2wIkqMbKy1M; u=131496281493790; __utmt=1; __utma=1.1126502126.1496125809.1496125809.1496323845.2; __utmb=1.2.10.1496323845; __utmc=1; __utmz=1.1496125809.1.1.utmcsr=(direct)|utmccn=(direct)|utmcmd=(none); Hm_lvt_1db88642e346389874251b5a1eded6e3=1495775140,1495776268,1496121018,1496281457; Hm_lpvt_1db88642e346389874251b5a1eded6e3=1496323915\",\n",
    "    'Referer': 'https://xueqiu.com/',\n",
    "    'User-Agent': 'Mozilla/5.0 (Macintosh; Intel Mac OS X 10_12_4) AppleWebKit/537.36 (KHTML, like Gecko) Chrome/58.0.3029.110 Safari/537.36'\n",
    "}\n",
    "\n",
    "url = \"https://xueqiu.com/5964068708\"\n",
    "def GetHTML(url):\n",
    "    if url is None:\n",
    "        return None\n",
    "    try:\n",
    "        r = requests.get(url, timeout=30, headers = headers)\n",
    "        r.status_code\n",
    "        r.encoding = r.apparent_encoding\n",
    "        print(r.text)\n",
    "        return r.text\n",
    "    except:\n",
    "        return print(\"爬取失败\")"
   ]
  }
 ],
 "metadata": {
  "kernelspec": {
   "display_name": "Python 2",
   "language": "python",
   "name": "python2"
  },
  "language_info": {
   "codemirror_mode": {
    "name": "ipython",
    "version": 2.0
   },
   "file_extension": ".py",
   "mimetype": "text/x-python",
   "name": "python",
   "nbconvert_exporter": "python",
   "pygments_lexer": "ipython2",
   "version": "2.7.6"
  }
 },
 "nbformat": 4,
 "nbformat_minor": 0
}